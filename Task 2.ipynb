{
  "nbformat": 4,
  "nbformat_minor": 0,
  "metadata": {
    "colab": {
      "name": "Untitled2.ipynb",
      "provenance": [],
      "collapsed_sections": []
    },
    "kernelspec": {
      "name": "python3",
      "display_name": "Python 3"
    },
    "language_info": {
      "name": "python"
    }
  },
  "cells": [
    {
      "cell_type": "markdown",
      "metadata": {
        "id": "9BevO-Q9peiu"
      },
      "source": [
        "# **The Sparks Foundation**\n",
        "\n",
        "# **Task- 2**\n",
        "\n",
        "# **PREDICTION USING UNSUPERVISED ML(LEVEL- BEGINNER)**\n",
        "\n",
        "# **BY**\n",
        "\n",
        "# **Name- ANKITA DAS**\n",
        "\n",
        "# **Email- ankitadasbelur@gmail.com**\n",
        "\n",
        "# **Data Science & Business Analytics Internship**\n",
        "\n",
        "# Objective\n",
        "\n",
        "Predict the optimum number of clusters and represents it visually using K-Means Clustering\n",
        "\n",
        "# About Dataset\n",
        "\n",
        "The given dataset has six Columns, one contains the id, four contains the features like sepal length,sepal width, petal length and petal width in centimetres and last column contains the label of iris species. The given dataset is https://bit.ly/3kXTdox\n",
        "\n",
        "\n",
        "\n"
      ]
    },
    {
      "cell_type": "code",
      "metadata": {
        "id": "QbDuQZSvuE5V"
      },
      "source": [
        "#Importing the libraries\n",
        "import numpy as np\n",
        "import pandas as pd\n",
        "import matplotlib.pyplot as plt\n",
        "from sklearn import datasets"
      ],
      "execution_count": null,
      "outputs": []
    },
    {
      "cell_type": "markdown",
      "metadata": {
        "id": "8fmmHiYLvV3H"
      },
      "source": [
        "# Importing the data"
      ]
    },
    {
      "cell_type": "code",
      "metadata": {
        "colab": {
          "base_uri": "https://localhost:8080/"
        },
        "id": "Z7JKmPojutYd",
        "outputId": "18a30171-0963-4b12-b964-089320f8e155"
      },
      "source": [
        "iris_df = pd.read_csv(\"https://drive.google.com/file/d/11Iq7YvbWZbt8VXjfm06brx66b10YiwK-/view\")\n",
        "print (\"The dataset is imported\")"
      ],
      "execution_count": null,
      "outputs": [
        {
          "output_type": "stream",
          "text": [
            "The dataset is imported\n"
          ],
          "name": "stdout"
        }
      ]
    },
    {
      "cell_type": "code",
      "metadata": {
        "colab": {
          "base_uri": "https://localhost:8080/",
          "height": 204
        },
        "id": "psA3afTL0q5z",
        "outputId": "fc52802e-0ed3-4493-ad00-98d3e19944f8"
      },
      "source": [
        "#Load iris dataset\n",
        "Iris=datasets.load_iris()\n",
        "df=pd.DataFrame(Iris.data,columns= Iris.feature_names)\n",
        "df.head()"
      ],
      "execution_count": null,
      "outputs": [
        {
          "output_type": "execute_result",
          "data": {
            "text/html": [
              "<div>\n",
              "<style scoped>\n",
              "    .dataframe tbody tr th:only-of-type {\n",
              "        vertical-align: middle;\n",
              "    }\n",
              "\n",
              "    .dataframe tbody tr th {\n",
              "        vertical-align: top;\n",
              "    }\n",
              "\n",
              "    .dataframe thead th {\n",
              "        text-align: right;\n",
              "    }\n",
              "</style>\n",
              "<table border=\"1\" class=\"dataframe\">\n",
              "  <thead>\n",
              "    <tr style=\"text-align: right;\">\n",
              "      <th></th>\n",
              "      <th>sepal length (cm)</th>\n",
              "      <th>sepal width (cm)</th>\n",
              "      <th>petal length (cm)</th>\n",
              "      <th>petal width (cm)</th>\n",
              "    </tr>\n",
              "  </thead>\n",
              "  <tbody>\n",
              "    <tr>\n",
              "      <th>0</th>\n",
              "      <td>5.1</td>\n",
              "      <td>3.5</td>\n",
              "      <td>1.4</td>\n",
              "      <td>0.2</td>\n",
              "    </tr>\n",
              "    <tr>\n",
              "      <th>1</th>\n",
              "      <td>4.9</td>\n",
              "      <td>3.0</td>\n",
              "      <td>1.4</td>\n",
              "      <td>0.2</td>\n",
              "    </tr>\n",
              "    <tr>\n",
              "      <th>2</th>\n",
              "      <td>4.7</td>\n",
              "      <td>3.2</td>\n",
              "      <td>1.3</td>\n",
              "      <td>0.2</td>\n",
              "    </tr>\n",
              "    <tr>\n",
              "      <th>3</th>\n",
              "      <td>4.6</td>\n",
              "      <td>3.1</td>\n",
              "      <td>1.5</td>\n",
              "      <td>0.2</td>\n",
              "    </tr>\n",
              "    <tr>\n",
              "      <th>4</th>\n",
              "      <td>5.0</td>\n",
              "      <td>3.6</td>\n",
              "      <td>1.4</td>\n",
              "      <td>0.2</td>\n",
              "    </tr>\n",
              "  </tbody>\n",
              "</table>\n",
              "</div>"
            ],
            "text/plain": [
              "   sepal length (cm)  sepal width (cm)  petal length (cm)  petal width (cm)\n",
              "0                5.1               3.5                1.4               0.2\n",
              "1                4.9               3.0                1.4               0.2\n",
              "2                4.7               3.2                1.3               0.2\n",
              "3                4.6               3.1                1.5               0.2\n",
              "4                5.0               3.6                1.4               0.2"
            ]
          },
          "metadata": {
            "tags": []
          },
          "execution_count": 5
        }
      ]
    },
    {
      "cell_type": "markdown",
      "metadata": {
        "id": "JGwibrmz5kM_"
      },
      "source": [
        "\n",
        "# Finding the optimum number of clusters for K-Means classification"
      ]
    },
    {
      "cell_type": "code",
      "metadata": {
        "id": "8LFzpvyt5sNX"
      },
      "source": [
        "x=df.iloc[:,[0,1,2,3]].values\n",
        "from sklearn.cluster import KMeans\n",
        "wcss=[]\n",
        "for i in range(1,11):\n",
        "    kmeans=KMeans(init=\"k-means++\",n_clusters=i,n_init=10,max_iter=300, random_state=0)\n",
        "    kmeans.fit(x)\n",
        "    wcss.append(kmeans.inertia_)"
      ],
      "execution_count": null,
      "outputs": []
    },
    {
      "cell_type": "code",
      "metadata": {
        "colab": {
          "base_uri": "https://localhost:8080/",
          "height": 295
        },
        "id": "T8LE-AYd52u_",
        "outputId": "12369799-399b-4992-8e25-aa24d87b3b52"
      },
      "source": [
        "#optimum number of clusters would be obtained at the elbow point\n",
        "#Let's plot a line graph of the results obtained and look for the elbow point\n",
        "plt.plot(range(1,11),wcss)\n",
        "plt.title(\"Elbow Method\")\n",
        "plt.xlabel(\"Number of clusters\")\n",
        "plt.ylabel(\"WCSS\")\n",
        "plt.show()"
      ],
      "execution_count": null,
      "outputs": [
        {
          "output_type": "display_data",
          "data": {
            "image/png": "[encoded data removed]",
            "text/plain": [
              "<Figure size 432x288 with 1 Axes>"
            ]
          },
          "metadata": {
            "tags": [],
            "needs_background": "light"
          }
        }
      ]
    },
    {
      "cell_type": "markdown",
      "metadata": {
        "id": "ZwZu_lXtdbXG"
      },
      "source": [
        "Looking at the \"Elbow Method\" graph we can infere that the eblow bend is found at 3.Hence, **The Optimum number of clusters is 3**"
      ]
    },
    {
      "cell_type": "code",
      "metadata": {
        "id": "uA_kiaNl6Cun"
      },
      "source": [
        "# At the optimum number of clusters the WCSS does not decrease significantly with each iteration\n",
        "# The optimum number of cluster appears at the elbow point\n",
        "# Therefore, it is visible that \"3\" being the elbow point should be equal to the optimum number \n",
        "# of clusters for this data"
      ],
      "execution_count": null,
      "outputs": []
    },
    {
      "cell_type": "code",
      "metadata": {
        "id": "5C6OrdqG6G5v"
      },
      "source": [
        "# Applying Kmeans to the dataset/ Creating Kmeans classifier\n",
        "kmeans= KMeans(init=\"k-means++\",n_clusters=3, n_init=10, max_iter=300, random_state=0)\n",
        "y=kmeans.fit_predict(x)\n",
        "#y represents the cluster label"
      ],
      "execution_count": null,
      "outputs": []
    },
    {
      "cell_type": "code",
      "metadata": {
        "colab": {
          "base_uri": "https://localhost:8080/",
          "height": 285
        },
        "id": "OJIWbeMA6Lo_",
        "outputId": "e434c724-77ae-4fa9-aa0e-280e914e546c"
      },
      "source": [
        "#Visualising the clusters: for the first two columns\n",
        "plt.scatter(x[y==0,0], x[y==0,1], c=\"red\", s=50, label=\"Iris-setosa\")\n",
        "plt.scatter(x[y==1,0], x[y==1,1], c=\"blue\", s=50, label=\"Iris-versicolor\")\n",
        "plt.scatter(x[y==2,0], x[y==2,1], c=\"green\", s=50, label=\"Iris-virginica\")\n",
        "\n",
        "#Plotting the centroids of the clusters\n",
        "plt.scatter(kmeans.cluster_centers_[:,0], kmeans.cluster_centers_[:,1], c=\"yellow\", \n",
        "            s=50, label=\"Centroids\")\n",
        "\n",
        "#descibing the elements of the graph\n",
        "plt.legend()"
      ],
      "execution_count": null,
      "outputs": [
        {
          "output_type": "execute_result",
          "data": {
            "text/plain": [
              "<matplotlib.legend.Legend at 0x7f127147b950>"
            ]
          },
          "metadata": {
            "tags": []
          },
          "execution_count": 10
        },
        {
          "output_type": "display_data",
          "data": {
            "image/png": "[encoded data removed]",
            "text/plain": [
              "<Figure size 432x288 with 1 Axes>"
            ]
          },
          "metadata": {
            "tags": [],
            "needs_background": "light"
          }
        }
      ]
    }
  ]
}